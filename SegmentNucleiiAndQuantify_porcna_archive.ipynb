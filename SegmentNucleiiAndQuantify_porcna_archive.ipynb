{
 "cells": [
  {
   "cell_type": "code",
   "execution_count": 1,
   "id": "7ed0264c",
   "metadata": {},
   "outputs": [],
   "source": [
    "import plotly.express as px\n",
    "import numpy as np\n",
    "import scipy as sp\n",
    "import cellpose\n",
    "import pandas as pd\n",
    "import tifffile\n",
    "import glob\n",
    "from cellpose import models\n",
    "import napari\n",
    "%gui qt5\n",
    "import skimage.measure as measure\n",
    "import plotly.graph_objs as go\n",
    "import scipy.stats as stats"
   ]
  },
  {
   "cell_type": "code",
   "execution_count": 2,
   "id": "2c8cfb26",
   "metadata": {},
   "outputs": [],
   "source": [
    "viewer = napari.Viewer()"
   ]
  },
  {
   "cell_type": "code",
   "execution_count": 3,
   "id": "e444d223",
   "metadata": {},
   "outputs": [],
   "source": [
    "DAPI_channel = 0\n",
    "piwi_channel = 1\n",
    "porcna_channel = 2\n",
    "H3P_channel = 3"
   ]
  },
  {
   "cell_type": "markdown",
   "id": "b4fe777b",
   "metadata": {},
   "source": [
    "# Do cellpose to find nucleii, save"
   ]
  },
  {
   "cell_type": "markdown",
   "id": "4d387e78",
   "metadata": {},
   "source": [
    "We will bin together 4 slices at a time, taking the mean for the fluorescence and taking the 2nd slice for nucleii segmentation\n",
    "\n",
    "Only need to run this if have not already run it.\n",
    "\n",
    "The tif files should be the raw files but with the background subtracted."
   ]
  },
  {
   "cell_type": "code",
   "execution_count": 4,
   "id": "e0165f6b",
   "metadata": {},
   "outputs": [],
   "source": [
    "model_cyto = models.Cellpose(gpu=True, model_type='cyto')"
   ]
  },
  {
   "cell_type": "code",
   "execution_count": 5,
   "id": "e5cf3190",
   "metadata": {},
   "outputs": [],
   "source": [
    "fnames = glob.glob('./*/*.tif')"
   ]
  },
  {
   "cell_type": "code",
   "execution_count": 6,
   "id": "0ccb4ed2",
   "metadata": {},
   "outputs": [
    {
     "name": "stdout",
     "output_type": "stream",
     "text": [
      "0.0\n",
      ".\\mmp1_piwi_h3p\\intact1_piwi488_mmp1568_h3p647_40x.tif\n",
      "3.8461538461538463\n",
      ".\\mmp1_piwi_h3p\\intact2_piwi488_mmp1568_h3p647_40x001.tif\n",
      "7.6923076923076925\n",
      ".\\mmp1_piwi_h3p\\intact3_piwi488_mmp1568_h3p647_40x.tif\n",
      "11.538461538461538\n",
      ".\\mmp1_piwi_h3p\\intact4_piwi488_mmp1568_h3p647_40x001.tif\n",
      "15.384615384615385\n",
      ".\\mmp1_piwi_h3p\\intact5_piwi488_mmp1568_h3p647_40x002.tif\n",
      "19.230769230769234\n",
      ".\\porcn_piwi_h3p\\48hpa1_piwi488_porcn568_h3p647_40x030.tif\n",
      "23.076923076923077\n",
      ".\\porcn_piwi_h3p\\48hpa2_piwi488_porcn568_h3p647_40x031.tif\n",
      "26.923076923076923\n",
      ".\\porcn_piwi_h3p\\48hpa3_piwi488_porcn568_h3p647_40x032.tif\n",
      "30.76923076923077\n",
      ".\\porcn_piwi_h3p\\48hpa4_piwi488_porcn568_h3p647_40x033.tif\n",
      "34.61538461538461\n",
      ".\\porcn_piwi_h3p\\48hpa5_piwi488_porcn568_h3p647_40x034.tif\n",
      "38.46153846153847\n",
      ".\\porcn_piwi_h3p\\6hpa1_piwi488_porcn568_h3p647_40x025.tif\n",
      "42.30769230769231\n",
      ".\\porcn_piwi_h3p\\6hpa2_piwi488_porcn568_h3p647_40x026.tif\n",
      "46.15384615384615\n",
      ".\\porcn_piwi_h3p\\6hpa3_piwi488_porcn568_h3p647_40x027.tif\n",
      "50.0\n",
      ".\\porcn_piwi_h3p\\6hpa4_piwi488_porcn568_h3p647_40x028.tif\n",
      "53.84615384615385\n",
      ".\\porcn_piwi_h3p\\6hpa5_piwi488_porcn568_h3p647_40x029.tif\n",
      "57.692307692307686\n",
      ".\\porcn_piwi_h3p\\intact1a_piwi488_porcn568_h3p647_40x013.tif\n",
      "61.53846153846154\n",
      ".\\porcn_piwi_h3p\\intact1b_piwi488_porcn568_h3p647_40x014.tif\n",
      "65.38461538461539\n",
      ".\\porcn_piwi_h3p\\intact2a_piwi488_porcn568_h3p647_40x015.tif\n",
      "69.23076923076923\n",
      ".\\porcn_piwi_h3p\\intact2b_piwi488_porcn568_h3p647_40x016.tif\n",
      "73.07692307692307\n",
      ".\\porcn_piwi_h3p\\intact3a_piwi488_porcn568_h3p647_40x017.tif\n",
      "76.92307692307693\n",
      ".\\porcn_piwi_h3p\\intact3b_piwi488_porcn568_h3p647_40x018.tif\n",
      "80.76923076923077\n",
      ".\\porcn_piwi_h3p\\intact4a_piwi488_porcn568_h3p647_40x019.tif\n",
      "84.61538461538461\n",
      ".\\porcn_piwi_h3p\\intact4b_piwi488_porcn568_h3p647_40x020.tif\n",
      "88.46153846153845\n",
      ".\\porcn_piwi_h3p\\intact5a_piwi488_porcn568_h3p647_40x021.tif\n",
      "92.3076923076923\n",
      ".\\porcn_piwi_h3p\\intact5b_piwi488_porcn568_h3p647_40x022.tif\n",
      "96.15384615384616\n",
      ".\\porcn_piwi_h3p\\intact6a_piwi488_porcn568_h3p647_40x023.tif\n"
     ]
    }
   ],
   "source": [
    "for i,f in enumerate(fnames):\n",
    "    print(i/len(fnames)*100)\n",
    "    print(f)\n",
    "    img = tifffile.imread(f)\n",
    "    #img[:,0] = np.roll(img[:,0], 3, axis=0)\n",
    "    #img[:,1] = np.roll(img[:,1], 2, axis=0)\n",
    "    #img[:,2] = np.roll(img[:,2], 1, axis=0)\n",
    "    if (len(img.shape)>4):\n",
    "        img = img.mean(axis=0)\n",
    "    \n",
    "    new_frames = int(np.floor(img.shape[0]/6))\n",
    "    \n",
    "    reshaped_img = img[0:(new_frames*6),:,:,:].reshape([new_frames,6,4,2044,2048])\n",
    "\n",
    "    flattened_img = np.mean(reshaped_img, axis=1)\n",
    "    flattened_img[:,DAPI_channel,:,:] = np.max(reshaped_img[:,[2,3],DAPI_channel,:,:], axis=1)\n",
    "\n",
    "    lst = [im for im in flattened_img[:,DAPI_channel,:,:]]\n",
    "    nucleii = model_cyto.eval(lst, channels=[0,0], diameter=50, flow_threshold=0.7,\n",
    "                           normalize=True, resample=False)[0]\n",
    "    nucleii = np.array(nucleii)\n",
    "\n",
    "    flattened_img = np.append(flattened_img, nucleii[:,np.newaxis,:], axis=1)\n",
    "    tifffile.imwrite(f+'f', flattened_img.astype(np.uint16), imagej=True, metadata={'axes':'ZCYX'})"
   ]
  },
  {
   "cell_type": "markdown",
   "id": "668d66d1",
   "metadata": {},
   "source": [
    "# Quantify the labeled files"
   ]
  },
  {
   "cell_type": "code",
   "execution_count": 6,
   "id": "5bec1a41",
   "metadata": {},
   "outputs": [],
   "source": [
    "fnames = glob.glob('./porcn_piwi_h3p/*.tiff')"
   ]
  },
  {
   "cell_type": "code",
   "execution_count": 7,
   "id": "3a688b1f",
   "metadata": {},
   "outputs": [],
   "source": [
    "def get_intensities(imgs, labels):\n",
    "    lst = []\n",
    "    for im, lab in zip(imgs, labels):\n",
    "        tlst = measure.regionprops(lab, im)\n",
    "        [lst.append(t['intensity_mean']) for t in tlst]\n",
    "    return np.array(lst)"
   ]
  },
  {
   "cell_type": "code",
   "execution_count": 8,
   "id": "a4d43b0d",
   "metadata": {},
   "outputs": [],
   "source": [
    "def get_areas(labels):\n",
    "    xylst = []\n",
    "    zlst = []\n",
    "    alst = []\n",
    "    for slc, lab in enumerate(labels):\n",
    "        tlst = measure.regionprops(lab, lab)\n",
    "        [xylst.append(t['centroid']) for t in tlst]\n",
    "        [alst.append(t['area']) for t in tlst]\n",
    "        [zlst.append(slc) for t in tlst]\n",
    "    return np.array(xylst), np.array(alst), np.array(zlst)"
   ]
  },
  {
   "cell_type": "code",
   "execution_count": 9,
   "id": "bad24984",
   "metadata": {},
   "outputs": [],
   "source": [
    "def filter_objects(mask, size):\n",
    "    rtn = []\n",
    "    for m in mask:\n",
    "        labs = sp.ndimage.label(m)[0]\n",
    "        props = measure.regionprops(labs, labs)\n",
    "        lst = np.array([t['area'] for t in props])\n",
    "        lst = np.append([0], lst)\n",
    "        lst = lst>size\n",
    "        size_img = lst[labs]\n",
    "        rtn.append(size_img)\n",
    "    return np.array(rtn)\n"
   ]
  },
  {
   "cell_type": "code",
   "execution_count": 10,
   "id": "d30a8684",
   "metadata": {},
   "outputs": [],
   "source": [
    "def get_distances(edt, labels, show=False):\n",
    "    return get_intensities(edt, labels)"
   ]
  },
  {
   "cell_type": "code",
   "execution_count": 11,
   "id": "1136c89f",
   "metadata": {},
   "outputs": [],
   "source": [
    "def get_data(f, show=False):\n",
    "    img = tifffile.imread(f)\n",
    "    centroids, areas, slices = get_areas(img[:,4])\n",
    "    c0 = get_intensities(img[:,0], img[:,4])\n",
    "    c1 = get_intensities(img[:,1], img[:,4])\n",
    "    c2 = get_intensities(img[:,2], img[:,4])\n",
    "    c3 = get_intensities(img[:,3], img[:,4])\n",
    "    if show:\n",
    "        viewer.add_image(img, channel_axis=1)\n",
    "    edt = tifffile.imread(f[0:-4]+'/Img.tiff')\n",
    "    distances = get_distances(edt, img[:,4], show=show)\n",
    "    cdf = pd.DataFrame({'Area':areas, 'X':centroids[:,0], 'Y':centroids[:,1], 'Z':slices, 'C0':c0, 'C1':c1,\n",
    "                       'C2':c2, 'C3':c3, 'Distance':distances})\n",
    "    cdf['File'] = f\n",
    "    return cdf"
   ]
  },
  {
   "cell_type": "code",
   "execution_count": 10,
   "id": "0e94e91a",
   "metadata": {
    "scrolled": true
   },
   "outputs": [
    {
     "name": "stdout",
     "output_type": "stream",
     "text": [
      "./porcn_piwi_h3p\\48hpa1_piwi488_porcn568_h3p647_40x030.tiff\n",
      "./porcn_piwi_h3p\\48hpa2_piwi488_porcn568_h3p647_40x031.tiff\n",
      "./porcn_piwi_h3p\\48hpa3_piwi488_porcn568_h3p647_40x032.tiff\n",
      "./porcn_piwi_h3p\\48hpa4_piwi488_porcn568_h3p647_40x033.tiff\n",
      "./porcn_piwi_h3p\\48hpa5_piwi488_porcn568_h3p647_40x034.tiff\n",
      "./porcn_piwi_h3p\\6hpa1_piwi488_porcn568_h3p647_40x025.tiff\n",
      "./porcn_piwi_h3p\\6hpa2_piwi488_porcn568_h3p647_40x026.tiff\n",
      "./porcn_piwi_h3p\\6hpa3_piwi488_porcn568_h3p647_40x027.tiff\n",
      "./porcn_piwi_h3p\\6hpa4_piwi488_porcn568_h3p647_40x028.tiff\n",
      "./porcn_piwi_h3p\\6hpa5_piwi488_porcn568_h3p647_40x029.tiff\n",
      "./porcn_piwi_h3p\\intact1a_piwi488_porcn568_h3p647_40x013.tiff\n",
      "./porcn_piwi_h3p\\intact1b_piwi488_porcn568_h3p647_40x014.tiff\n",
      "./porcn_piwi_h3p\\intact2a_piwi488_porcn568_h3p647_40x015.tiff\n",
      "./porcn_piwi_h3p\\intact3a_piwi488_porcn568_h3p647_40x017.tiff\n",
      "./porcn_piwi_h3p\\intact3b_piwi488_porcn568_h3p647_40x018.tiff\n",
      "./porcn_piwi_h3p\\intact4a_piwi488_porcn568_h3p647_40x019.tiff\n",
      "./porcn_piwi_h3p\\intact4b_piwi488_porcn568_h3p647_40x020.tiff\n",
      "./porcn_piwi_h3p\\intact5a_piwi488_porcn568_h3p647_40x021.tiff\n",
      "./porcn_piwi_h3p\\intact5b_piwi488_porcn568_h3p647_40x022.tiff\n",
      "./porcn_piwi_h3p\\intact6a_piwi488_porcn568_h3p647_40x023.tiff\n"
     ]
    }
   ],
   "source": [
    "df = pd.DataFrame()\n",
    "for f in fnames:\n",
    "    print(f)\n",
    "    cdf = get_data(f)\n",
    "    df = pd.concat([df,cdf])"
   ]
  },
  {
   "cell_type": "code",
   "execution_count": 12,
   "id": "bbf2e81b",
   "metadata": {},
   "outputs": [],
   "source": [
    "df.to_csv('Quantification_porcna.csv')"
   ]
  },
  {
   "cell_type": "markdown",
   "id": "ac678383",
   "metadata": {},
   "source": [
    "# Analyze results"
   ]
  },
  {
   "cell_type": "code",
   "execution_count": 12,
   "id": "b033e72c",
   "metadata": {},
   "outputs": [],
   "source": [
    "df = pd.read_csv('Quantification_porcna.csv')"
   ]
  },
  {
   "cell_type": "code",
   "execution_count": 13,
   "id": "9d0ddf0c",
   "metadata": {},
   "outputs": [],
   "source": [
    "df['Time'] = df['File'].str.split('\\\\').str[1].str.split('_').str[0].str[0:-2]"
   ]
  },
  {
   "cell_type": "code",
   "execution_count": 11,
   "id": "79a1ce6f",
   "metadata": {},
   "outputs": [],
   "source": [
    "#df['Label'] = df['File'].str.split('_').str[0]\n",
    "#df['Time'] = df['File'].str.split('_').str[3]\n",
    "#df['ID'] = df['File'].str.split('_').str[4]\n",
    "#df['Side'] = df['File'].str.split('_').str[5]\n",
    "\n",
    "#df.loc[df['Label']=='No','Time'] = df.loc[df['Label']=='No','File'].str.split('_').str[2]\n",
    "#df.loc[df['Label']=='No','ID'] = df.loc[df['Label']=='No','File'].str.split('_').str[3]\n",
    "#df.loc[df['Label']=='No','Side'] = df.loc[df['Label']=='No','File'].str.split('_').str[4]\n",
    "\n"
   ]
  },
  {
   "cell_type": "code",
   "execution_count": 14,
   "id": "de460adb",
   "metadata": {},
   "outputs": [],
   "source": [
    "def ptile(arg):\n",
    "    return np.percentile(arg, 30)"
   ]
  },
  {
   "cell_type": "code",
   "execution_count": 15,
   "id": "f4a2d49c",
   "metadata": {},
   "outputs": [],
   "source": [
    "pt = df.pivot_table(index=['File','Z'], values=['C0','C1','C2', 'C3'], aggfunc=ptile)\n",
    "df = df.merge(pt.reset_index().rename(columns={'C0':'C0ptile', 'C1':'C1ptile', 'C2':'C2ptile', 'C3':'C3ptile'}), on=['File','Z'])\n",
    "df['C0raw'] = df['C0']\n",
    "df['C2raw'] = df['C2']\n",
    "df['C0'] = df['C0']/df['C0ptile']\n",
    "df['C1'] = df['C1']/df['C1ptile']\n",
    "df['C2'] = df['C2']/df['C2ptile']\n",
    "df['C3'] = df['C3']/df['C3ptile']"
   ]
  },
  {
   "cell_type": "code",
   "execution_count": 16,
   "id": "e57f7594",
   "metadata": {},
   "outputs": [],
   "source": [
    "#pt = df.pivot_table(index=['Label', 'Time', 'ID','Z'], values=['C0','C1','C2', 'C3'], aggfunc=ptile)\n",
    "#df = df.merge(pt.reset_index().rename(columns={'C0':'C0ptile', 'C1':'C1ptile', 'C2':'C2ptile', 'C3':'C3ptile'}), on=['Label',\n",
    "#                                                                                                                     'Time', 'ID'\n",
    "#                                                                                                                     ,'Z'])\n",
    "#df['C0'] = df['C0']/df['C0ptile']\n",
    "#df['C1'] = df['C1']/df['C1ptile']\n",
    "#df['C2'] = df['C2']/df['C2ptile']\n",
    "#df['C3'] = df['C3']/df['C3ptile']"
   ]
  },
  {
   "cell_type": "code",
   "execution_count": 17,
   "id": "afb69b15",
   "metadata": {},
   "outputs": [],
   "source": [
    "df['L0'] = np.log(df['C0'])\n",
    "df['L1'] = np.log(df['C1'])\n",
    "df['L2'] = np.log(df['C2'])\n",
    "df['L3'] = np.log(df['C3'])"
   ]
  },
  {
   "cell_type": "code",
   "execution_count": 18,
   "id": "9e49e480",
   "metadata": {},
   "outputs": [
    {
     "data": {
      "text/plain": [
       "array([ 0,  1,  2,  3,  4,  5,  6,  7,  8,  9, 10, 11, 12, 13, 14, 15, 16,\n",
       "       17, 18, 19, 20, 21, 22, 23, 24, 25, 26, 27, 28, 29, 30, 31, 32, 33,\n",
       "       34, 35, 36, 37, 38, 39, 40, 41, 42, 43, 44, 45, 46, 47, 48, 49, 50,\n",
       "       51, 52, 53, 54, 55, 56], dtype=int64)"
      ]
     },
     "execution_count": 18,
     "metadata": {},
     "output_type": "execute_result"
    }
   ],
   "source": [
    "df['Z'].unique()"
   ]
  },
  {
   "cell_type": "code",
   "execution_count": 25,
   "id": "f9ce95bc",
   "metadata": {},
   "outputs": [],
   "source": [
    "visualize=False"
   ]
  },
  {
   "cell_type": "code",
   "execution_count": 26,
   "id": "456a051c",
   "metadata": {
    "scrolled": false
   },
   "outputs": [],
   "source": [
    "if visualize:\n",
    "    px.histogram(df[df['Z']<20], x='L1', animation_frame='File', facet_col='Z', facet_col_wrap=3, height=1200, range_x=[-1,2], range_y=[0,100])"
   ]
  },
  {
   "cell_type": "code",
   "execution_count": 27,
   "id": "2e60aca5",
   "metadata": {
    "scrolled": false
   },
   "outputs": [],
   "source": [
    "if visualize:\n",
    "    px.density_heatmap(df, x=\"L1\", y=\"L3\",  \n",
    "                   nbinsx=50, nbinsy=50, height=1200, animation_frame='File',\n",
    "                   color_continuous_scale=[(0, \"blue\"), (0.05, \"green\"), (0.4, 'yellow'), (1, \"red\")])\n",
    "                  "
   ]
  },
  {
   "cell_type": "markdown",
   "id": "5156de4d",
   "metadata": {},
   "source": [
    "# Look at data"
   ]
  },
  {
   "cell_type": "markdown",
   "id": "a977a2e2",
   "metadata": {},
   "source": [
    "### Threshold for piwi and markers"
   ]
  },
  {
   "cell_type": "code",
   "execution_count": 28,
   "id": "993d2f24",
   "metadata": {},
   "outputs": [],
   "source": [
    "piwi_thresh = 1.2\n",
    "\n",
    "H3p_thresh = 4.0"
   ]
  },
  {
   "cell_type": "code",
   "execution_count": 29,
   "id": "25090906",
   "metadata": {},
   "outputs": [],
   "source": [
    "df['H3pPos'] = df['L3']>H3p_thresh\n",
    "df['PiwiPos'] = df['L1']>piwi_thresh\n",
    "df['DoublePos'] = df['H3pPos'] & df['PiwiPos']\n",
    "\n",
    "df = df[df['Z']<25]"
   ]
  },
  {
   "cell_type": "code",
   "execution_count": 30,
   "id": "12f3627d",
   "metadata": {},
   "outputs": [],
   "source": [
    "gdf = df.groupby(['Time', 'File']).agg({'H3pPos':np.mean, 'PiwiPos':np.mean, 'DoublePos':np.mean}).reset_index()\n",
    "gdf['FractionDoublePos'] = gdf['DoublePos']/gdf['PiwiPos']"
   ]
  },
  {
   "cell_type": "markdown",
   "id": "8c17cde4",
   "metadata": {},
   "source": [
    "### Threshold based analysis"
   ]
  },
  {
   "cell_type": "code",
   "execution_count": 31,
   "id": "a104e4ff",
   "metadata": {
    "scrolled": false
   },
   "outputs": [],
   "source": [
    "\n",
    "if visualize:\n",
    "    f=go.FigureWidget(\n",
    "        px.box(gdf, x='Time', y='PiwiPos', points='all',\n",
    "            hover_data=['File'])\n",
    "        )\n",
    "     \n",
    "    def click_fn(trace, points, state):\n",
    "        \n",
    "        if (len(points.point_inds)>0):\n",
    "            file = f.data[points.trace_index]['customdata'][points.point_inds[-1]][0]\n",
    "            print(file)\n",
    "            img = tifffile.imread(file)[0:25]\n",
    "            print(img.shape)\n",
    "            viewer.layers.clear()\n",
    "            viewer.add_image(img[:,0:4], channel_axis=1)\n",
    "            viewer.add_labels(img[:,4])\n",
    "            pts = (df[(df['File']==file) & (df['PiwiPos'])][['Z', 'X', 'Y']].to_numpy())\n",
    "            viewer.add_points(pts, size=20, face_color='magenta')\n",
    "            pts = (df[(df['File']==file) & (df['H3pPos'])][['Z', 'X', 'Y']].to_numpy())\n",
    "            viewer.add_points(pts, size=20, face_color='red')\n",
    "            viewer.layers[1].contrast_limits=[0,4000]\n",
    "            edt = tifffile.imread(file[0:-4]+'/Img.tiff')[0:25]\n",
    "            viewer.add_image(edt)\n",
    "            viewer.layers[0].colormap='green'\n",
    "            \n",
    "            #viewer.layers[0].visible=False\n",
    "            viewer.layers[2].visible=False\n",
    "            viewer.layers[4].visible=False\n",
    "            viewer.layers[3].colormap='gray'\n",
    "            \n",
    "\n",
    "    for a in range(0,len(f.data)):\n",
    "        f.data[a].on_click(click_fn)\n",
    "\n",
    "    f"
   ]
  },
  {
   "cell_type": "markdown",
   "id": "ea1d0da7",
   "metadata": {},
   "source": [
    "## Distance analysis"
   ]
  },
  {
   "cell_type": "code",
   "execution_count": 32,
   "id": "3a82e5c6",
   "metadata": {},
   "outputs": [],
   "source": [
    "if visualize:\n",
    "    f = px.violin(df[df['PiwiPos']], x='Time', y='Distance',  color='DoublePos', title='Piwi positive cells, minimum distance to porcna region, not aggregated by image',\n",
    "          hover_data=['File'])\n",
    "    f.write_html('MinDistByCell_porcna.html')\n",
    "    f"
   ]
  },
  {
   "cell_type": "code",
   "execution_count": 33,
   "id": "240a1581",
   "metadata": {},
   "outputs": [],
   "source": [
    "ddf = df[df['PiwiPos']].groupby(['File', 'DoublePos', 'Time']).agg({'Distance':np.median}).reset_index()"
   ]
  },
  {
   "cell_type": "code",
   "execution_count": 34,
   "id": "bcb65a95",
   "metadata": {},
   "outputs": [],
   "source": [
    "if visualize:\n",
    "    f = px.box(ddf, color='DoublePos', x='Time', y='Distance', points='all', title='Piwi positive cells, minimum distance to porcna region, aggregated by image')\n",
    "    f.write_html('MinDistByFile_porcna.html')\n",
    "    f"
   ]
  },
  {
   "cell_type": "markdown",
   "id": "0ba60182",
   "metadata": {},
   "source": [
    "If we look at ALL cells, not just piwi positive, do we see similar trends.  Ie, is this merely a reflection of there being more/less porcna in the image?"
   ]
  },
  {
   "cell_type": "code",
   "execution_count": 35,
   "id": "1e1a462e",
   "metadata": {},
   "outputs": [],
   "source": [
    "if visualize:\n",
    "    dddf = df.groupby(['File', 'DoublePos', 'Time']).agg({'Distance':np.median}).reset_index()\n",
    "    px.box(dddf, x='Time', y='Distance', points='all', title='Cells minimum distance to porcna region, aggregated by image')"
   ]
  },
  {
   "cell_type": "markdown",
   "id": "ec3c00ea",
   "metadata": {},
   "source": [
    "It would appear that for whatever reason, the areas imaged had more gut in the intact"
   ]
  },
  {
   "cell_type": "markdown",
   "id": "368a68d6",
   "metadata": {},
   "source": [
    "## Closeness analysis"
   ]
  },
  {
   "cell_type": "code",
   "execution_count": 36,
   "id": "0e4c39c0",
   "metadata": {},
   "outputs": [],
   "source": [
    "df['Close'] = df['Distance']<20/1000000"
   ]
  },
  {
   "cell_type": "code",
   "execution_count": 37,
   "id": "0ed1e0e8",
   "metadata": {},
   "outputs": [],
   "source": [
    "ttdf = df.copy()\n",
    "ttdf['Distance'] = ttdf['Distance']*1000000\n",
    "ttdf.to_csv('AllCell_porcna.csv')"
   ]
  },
  {
   "cell_type": "code",
   "execution_count": 34,
   "id": "1f6d9dbb",
   "metadata": {},
   "outputs": [],
   "source": [
    "gdf = df.groupby(['Time', 'File', 'Close']).agg({'H3pPos':np.mean, 'PiwiPos':np.mean, 'DoublePos':np.mean}).reset_index()\n",
    "gdf['FractionDoublePos'] = gdf['DoublePos']/gdf['PiwiPos']"
   ]
  },
  {
   "cell_type": "markdown",
   "id": "026ba189",
   "metadata": {},
   "source": [
    "### Looking at fraction of all cells, close vs far"
   ]
  },
  {
   "cell_type": "code",
   "execution_count": 38,
   "id": "b21eb2f5",
   "metadata": {},
   "outputs": [],
   "source": [
    "if visualize:\n",
    "    px.box(gdf, x='Time', y='PiwiPos', color='Close', points='all')"
   ]
  },
  {
   "cell_type": "code",
   "execution_count": 39,
   "id": "6d844817",
   "metadata": {},
   "outputs": [],
   "source": [
    "if visualize:\n",
    "    px.box(gdf, x='Time', y='H3pPos', color='Close', points='all')"
   ]
  },
  {
   "cell_type": "code",
   "execution_count": 40,
   "id": "5215e6b5",
   "metadata": {},
   "outputs": [],
   "source": [
    "if visualize:\n",
    "    px.box(gdf, x='Time', y='DoublePos', color='Close', points='all')"
   ]
  },
  {
   "cell_type": "code",
   "execution_count": 41,
   "id": "f3337ac3",
   "metadata": {},
   "outputs": [],
   "source": [
    "pdf = df[df['PiwiPos']].groupby(['Time', 'File', 'Close']).agg({'H3pPos':np.mean, 'PiwiPos':np.mean, 'DoublePos':np.mean}).reset_index()\n",
    "pdf['FractionDoublePos'] = pdf['DoublePos']/pdf['PiwiPos']"
   ]
  },
  {
   "cell_type": "code",
   "execution_count": 42,
   "id": "f7488ea8",
   "metadata": {},
   "outputs": [],
   "source": [
    "if visualize:\n",
    "    px.box(pdf, x='Time', y='DoublePos', color='Close', points='all')"
   ]
  },
  {
   "cell_type": "code",
   "execution_count": null,
   "id": "59355ffb",
   "metadata": {},
   "outputs": [],
   "source": []
  },
  {
   "cell_type": "code",
   "execution_count": null,
   "id": "9836410d",
   "metadata": {},
   "outputs": [],
   "source": []
  }
 ],
 "metadata": {
  "kernelspec": {
   "display_name": "napari",
   "language": "python",
   "name": "python3"
  },
  "language_info": {
   "codemirror_mode": {
    "name": "ipython",
    "version": 3
   },
   "file_extension": ".py",
   "mimetype": "text/x-python",
   "name": "python",
   "nbconvert_exporter": "python",
   "pygments_lexer": "ipython3",
   "version": "3.8.15"
  },
  "vscode": {
   "interpreter": {
    "hash": "543682d192a3eb24983b806d8e0c4f2b0f4ca802b12b760682030aef84cd3b78"
   }
  }
 },
 "nbformat": 4,
 "nbformat_minor": 5
}
